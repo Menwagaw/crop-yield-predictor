{
 "cells": [
  {
   "cell_type": "code",
   "execution_count": 57,
   "metadata": {},
   "outputs": [],
   "source": [
    "import pandas\n",
    "import matplotlib.pyplot as plt\n",
    "from sklearn.cluster import KMeans\n",
    "\n",
    "data = pandas.read_json(\"../json/tagged_remote_sensing_2017.json\", orient=\"records\")"
   ]
  },
  {
   "cell_type": "code",
   "execution_count": 96,
   "metadata": {},
   "outputs": [],
   "source": [
    "def draw_2d(x, y, cluster, centers=None, labels=[\"First\", \"Second\"], figsize=(6, 4)):\n",
    "    fig = plt.figure(figsize=figsize)\n",
    "    plot_2d = fig.add_subplot(111)\n",
    "\n",
    "    plot_2d.set_xlabel(labels[0])\n",
    "    plot_2d.set_ylabel(labels[1])\n",
    "\n",
    "    plot_2d.scatter(\n",
    "        x, \n",
    "        y, \n",
    "        c=cluster, \n",
    "        cmap=\"brg\", \n",
    "        alpha=0.6\n",
    "    )\n",
    "    \n",
    "    if centers is not None:\n",
    "        # Draw white circles at cluster centers\n",
    "        plot_2d.scatter(centers[:, 0], \n",
    "                        centers[:, 1], \n",
    "                        marker='o',\n",
    "                        c=\"white\", \n",
    "                        alpha=1, \n",
    "                        s=200, \n",
    "                        edgecolor='k')\n",
    "        # Draw number of a cluster center\n",
    "        for i, c in enumerate(centers):\n",
    "            plot_2d.scatter(c[0], \n",
    "                            c[1],\n",
    "                            marker=f\"${i}$\", \n",
    "                            c=\"black\",\n",
    "                            alpha=1, \n",
    "                            s=50, \n",
    "                            edgecolor='k')\n",
    "            \n",
    "    return fig"
   ]
  },
  {
   "cell_type": "code",
   "execution_count": 94,
   "metadata": {},
   "outputs": [
    {
     "data": {
      "image/png": "[encoded data removed]",
      "text/plain": [
       "<Figure size 432x288 with 1 Axes>"
      ]
     },
     "metadata": {
      "needs_background": "light"
     },
     "output_type": "display_data"
    }
   ],
   "source": [
    "fig_1 = draw_2d(data[\"shortwave_infrared_1\"], \n",
    "                data[\"shortwave_infrared_2\"], \n",
    "                None, \n",
    "                labels=[\"x\", \"y\"])\n",
    "fig_1.savefig(\"pdf/k_means_figure_1.pdf\", \n",
    "              dpi=600,\n",
    "              format=\"pdf\", \n",
    "              facecolor=\"none\", \n",
    "              alpha=0, \n",
    "              edgecolor=\"none\", \n",
    "              bbox_inches=\"tight\",\n",
    "              orientation=\"portrait\")"
   ]
  },
  {
   "cell_type": "code",
   "execution_count": 95,
   "metadata": {},
   "outputs": [
    {
     "data": {
      "image/png": "[encoded data removed]",
      "text/plain": [
       "<Figure size 432x288 with 1 Axes>"
      ]
     },
     "metadata": {
      "needs_background": "light"
     },
     "output_type": "display_data"
    }
   ],
   "source": [
    "k = KMeans(n_clusters=5, init=\"random\", max_iter=1, random_state=1).fit(\n",
    "        data[[\"shortwave_infrared_1\", \"shortwave_infrared_2\"]]\n",
    "    )\n",
    "fig_2 = draw_2d(data[\"shortwave_infrared_1\"], \n",
    "                data[\"shortwave_infrared_2\"], \n",
    "                k.labels_, \n",
    "                k.cluster_centers_,\n",
    "                labels=[\"x\", \"y\"])\n",
    "fig_2.savefig(\"pdf/k_means_figure_2.pdf\",\n",
    "              dpi=600,\n",
    "              format=\"pdf\", \n",
    "              facecolor=\"none\", \n",
    "              alpha=0, \n",
    "              edgecolor=\"none\",\n",
    "              bbox_inches=\"tight\",\n",
    "              orientation=\"portrait\")"
   ]
  },
  {
   "cell_type": "code",
   "execution_count": null,
   "metadata": {},
   "outputs": [],
   "source": []
  }
 ],
 "metadata": {
  "kernelspec": {
   "display_name": "Python 3",
   "language": "python",
   "name": "python3"
  },
  "language_info": {
   "codemirror_mode": {
    "name": "ipython",
    "version": 3
   },
   "file_extension": ".py",
   "mimetype": "text/x-python",
   "name": "python",
   "nbconvert_exporter": "python",
   "pygments_lexer": "ipython3",
   "version": "3.7.3"
  },
  "latex_envs": {
   "LaTeX_envs_menu_present": true,
   "autoclose": false,
   "autocomplete": true,
   "bibliofile": "biblio.bib",
   "cite_by": "apalike",
   "current_citInitial": 1,
   "eqLabelWithNumbers": true,
   "eqNumInitial": 1,
   "hotkeys": {
    "equation": "Ctrl-E",
    "itemize": "Ctrl-I"
   },
   "labels_anchors": false,
   "latex_user_defs": false,
   "report_style_numbering": false,
   "user_envs_cfg": false
  }
 },
 "nbformat": 4,
 "nbformat_minor": 2
}
