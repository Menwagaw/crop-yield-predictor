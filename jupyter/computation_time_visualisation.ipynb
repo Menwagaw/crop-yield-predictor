{
 "cells": [
  {
   "cell_type": "code",
   "execution_count": 113,
   "metadata": {},
   "outputs": [],
   "source": [
    "import matplotlib.pyplot as plt\n",
    "import re\n",
    "import matplotlib.dates as mdates\n",
    "from matplotlib.collections import PolyCollection"
   ]
  },
  {
   "cell_type": "code",
   "execution_count": 136,
   "metadata": {},
   "outputs": [],
   "source": [
    "input_data = {}\n",
    "REGEX = re.compile(\"^(?P<time>.*) (?P<action>START|STOP) predict_per_district .*\\(district_name='(?P<district>.*)', region_name=.*$\")\n",
    "with open(\"../json/parallel_computation.log\") as file:\n",
    "    for row in file:\n",
    "        action_time, action, district = REGEX.findall(row)[0]\n",
    "        converted_time = mdates.datestr2num(action_time)\n",
    "        if action == \"START\":\n",
    "            input_data[district] = converted_time\n",
    "        else:\n",
    "            input_data[district] = (input_data[district], converted_time)"
   ]
  },
  {
   "cell_type": "code",
   "execution_count": 137,
   "metadata": {},
   "outputs": [],
   "source": [
    "data = {i: input_data[i] for i in list(input_data.keys())[:5]} \n",
    "for i in list(input_data.keys())[-5:]:\n",
    "    data[i] = input_data[i]"
   ]
  },
  {
   "cell_type": "code",
   "execution_count": 145,
   "metadata": {},
   "outputs": [
    {
     "data": {
      "image/png": "[encoded data removed]",
      "text/plain": [
       "<Figure size 432x288 with 1 Axes>"
      ]
     },
     "metadata": {
      "needs_background": "light"
     },
     "output_type": "display_data"
    }
   ],
   "source": [
    "cats = {key: number for number, key in enumerate(data.keys())}\n",
    "\n",
    "verts = []\n",
    "for key, values in data.items():\n",
    "    v =  [(values[0], cats[key]-.4),\n",
    "          (values[0], cats[key]+.4),\n",
    "          (values[1], cats[key]+.4),\n",
    "          (values[1], cats[key]-.4),\n",
    "          (values[0], cats[key]-.4)]\n",
    "    verts.append(v)\n",
    "\n",
    "bars = PolyCollection(verts)\n",
    "\n",
    "fig = plt.figure(figsize=(6,4))\n",
    "ax = fig.add_subplot(111)\n",
    "ax.add_collection(bars)\n",
    "ax.autoscale()\n",
    "loc = mdates.MinuteLocator(byminute=[0,5,10,15,20,25,30,35,40])\n",
    "ax.xaxis.set_major_locator(loc)\n",
    "ax.xaxis.set_major_formatter(mdates.DateFormatter(\"%H:%M\"))\n",
    "\n",
    "ax.set_yticks(range(len(data)))\n",
    "ax.set_yticklabels(data.keys())\n",
    "plt.show()\n",
    "fig.savefig(f\"pdf/parallel_times.pdf\", \n",
    "            dpi=600,\n",
    "            format=\"pdf\", \n",
    "            facecolor=\"none\", \n",
    "            alpha=0, \n",
    "            edgecolor=\"none\", \n",
    "            bbox_inches=\"tight\",\n",
    "            orientation=\"portrait\")"
   ]
  },
  {
   "cell_type": "code",
   "execution_count": null,
   "metadata": {},
   "outputs": [],
   "source": []
  }
 ],
 "metadata": {
  "kernelspec": {
   "display_name": "Python 3",
   "language": "python",
   "name": "python3"
  },
  "language_info": {
   "codemirror_mode": {
    "name": "ipython",
    "version": 3
   },
   "file_extension": ".py",
   "mimetype": "text/x-python",
   "name": "python",
   "nbconvert_exporter": "python",
   "pygments_lexer": "ipython3",
   "version": "3.7.3"
  },
  "latex_envs": {
   "LaTeX_envs_menu_present": true,
   "autoclose": false,
   "autocomplete": true,
   "bibliofile": "biblio.bib",
   "cite_by": "apalike",
   "current_citInitial": 1,
   "eqLabelWithNumbers": true,
   "eqNumInitial": 1,
   "hotkeys": {
    "equation": "Ctrl-E",
    "itemize": "Ctrl-I"
   },
   "labels_anchors": false,
   "latex_user_defs": false,
   "report_style_numbering": false,
   "user_envs_cfg": false
  }
 },
 "nbformat": 4,
 "nbformat_minor": 2
}
